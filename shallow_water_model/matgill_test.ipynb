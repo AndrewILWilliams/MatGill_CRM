{
 "cells": [
  {
   "cell_type": "code",
   "execution_count": 17,
   "id": "cade54f3",
   "metadata": {},
   "outputs": [],
   "source": [
    "import xarray as xr\n",
    "import numpy as np\n",
    "import matplotlib.pyplot as plt\n",
    "\n",
    "from shallow_water import PeriodicLinearShallowWater\n",
    "from plotting import plot_wind_arrows"
   ]
  },
  {
   "cell_type": "code",
   "execution_count": 8,
   "id": "4c7714dd",
   "metadata": {},
   "outputs": [],
   "source": [
    "import warnings\n",
    "warnings.simplefilter(action='ignore', category=DeprecationWarning)"
   ]
  },
  {
   "cell_type": "code",
   "execution_count": 67,
   "id": "ba3f3361",
   "metadata": {},
   "outputs": [],
   "source": [
    "def run_linear_model(beta=2.28e-11, Rd=1e6, matgill_yexp=2):\n",
    "    \"\"\"\n",
    "    Params:\n",
    "    \n",
    "     - Radius of deformation: Rd = sqrt(2 c / beta)\n",
    "     - beta\n",
    "    \"\"\"\n",
    "    nx = 256\n",
    "    ny = nx//2 + 1\n",
    "\n",
    "\n",
    "    # Radius of deformation: Rd = sqrt(2 c / beta)\n",
    "    #Rd = 1000.0e3  # Fix Rd at 1000km\n",
    "\n",
    "    Lx = 10*Rd\n",
    "    Ly = 5*Rd\n",
    "\n",
    "    #beta=2.28e-11\n",
    "    c = Rd**2 * beta  # Kelvin wave speed: c = sqrt(gH)\n",
    "    g = 1.0\n",
    "\n",
    "    H = c**2/g       # Set phi baseline from deformation radius\n",
    "\n",
    "    cfl = 0.7         # For numerical stability CFL = |u| dt / dx < 1.0\n",
    "    dx  = Ly / nx\n",
    "    dt = np.floor(cfl * dx / (c*4))\n",
    "\n",
    "    tau = 500000\n",
    "    nu = 1000\n",
    "\n",
    "    atmos = PeriodicLinearShallowWater(nx, ny, Lx, Ly, beta=beta, f0=0.0, g=g, H=H, dt=dt, nu=nu)\n",
    "\n",
    "    x, y = np.meshgrid(atmos.phix/Rd, atmos.phiy/Rd)\n",
    "    k = np.pi/2\n",
    "    Q0 = H * 0.01\n",
    "    Q = (Q0*np.exp(-(1/2)*y**matgill_yexp)*np.cos(k*x))\n",
    "    Q[np.abs(x) > 1] = 0\n",
    "    Q = Q.T\n",
    "\n",
    "    @atmos.add_forcing\n",
    "    def matsuno_gill(model):    \n",
    "        u, v, h = model.state\n",
    "        du, dv, dh = np.zeros_like(model.state)\n",
    "\n",
    "        # forcing terms for the linear matsuno gill problem\n",
    "        du = - u/tau\n",
    "        dv = - v/tau\n",
    "        dh = (Q - h)/tau\n",
    "\n",
    "        return np.array([du, dv, dh])\n",
    "\n",
    "\n",
    "    N = int(tau/dt*3)\n",
    "    for i in range(N):\n",
    "        atmos.step()\n",
    "        if i%int(N*0.1)==0:\n",
    "            print(i)\n",
    "    \n",
    "    da_forcing = xr.DataArray(Q.T, dims=['y', 'x'],\n",
    "                      coords={'x': atm.phix[:,0]/Rd,\n",
    "                              'y': atm.phiy[0,:]/Rd})\n",
    "    \n",
    "    da_height = xr.DataArray(atmos.h.T, dims=['y', 'x'],\n",
    "                      coords={'x': atm.phix[:,0]/Rd,\n",
    "                              'y': atm.phiy[0,:]/Rd})\n",
    "    \n",
    "    return da_height, da_forcing\n"
   ]
  },
  {
   "cell_type": "code",
   "execution_count": null,
   "id": "d12014b5",
   "metadata": {},
   "outputs": [
    {
     "name": "stderr",
     "output_type": "stream",
     "text": [
      "/home/users/andreww/miniconda3/envs/plumeworld/lib/python3.7/site-packages/ipykernel_launcher.py:50: VisibleDeprecationWarning: Creating an ndarray from ragged nested sequences (which is a list-or-tuple of lists-or-tuples-or ndarrays with different lengths or shapes) is deprecated. If you meant to do this, you must specify 'dtype=object' when creating the ndarray\n"
     ]
    },
    {
     "name": "stdout",
     "output_type": "stream",
     "text": [
      "0\n",
      "1006\n",
      "2012\n",
      "3018\n",
      "4024\n",
      "5030\n",
      "6036\n"
     ]
    }
   ],
   "source": [
    "%%time\n",
    "height, forcing = run_linear_model()"
   ]
  },
  {
   "cell_type": "code",
   "execution_count": null,
   "id": "f2e2986c",
   "metadata": {},
   "outputs": [],
   "source": [
    "fig, ax = plt.subplots(dpi=100, figsize=(6, 4))\n",
    "\n",
    "(height-height.mean('y')).plot(ax=ax)\n",
    "\n",
    "forcing.plot.contour(ax=ax, levels=[1], colors='grey', linewidths=0.8)\n",
    "\n",
    "plot_wind_arrows(atmos, (x,y), narrows=(15,15), hide_below=0.05, color='k')\n",
    "ax.set_aspect('equal')\n",
    "ax.set_xlabel('x  (L$_{d}$)')\n",
    "ax.set_ylabel('y  (L$_{d}$)')\n",
    "\n",
    "ax.set_title('State at T=%.2f days' % (atmos.t / 86400.0))\n",
    "\n",
    "#plt.colorbar()"
   ]
  },
  {
   "cell_type": "code",
   "execution_count": null,
   "id": "1c2a742d",
   "metadata": {},
   "outputs": [],
   "source": [
    "%%time\n",
    "\n",
    "height_halfRd, forcing_halfRd = run_linear_model(Rd=5e5)"
   ]
  },
  {
   "cell_type": "code",
   "execution_count": null,
   "id": "98aa7bf0",
   "metadata": {},
   "outputs": [],
   "source": [
    "fig, ax = plt.subplots(dpi=100, figsize=(6, 4))\n",
    "\n",
    "(height_halfRd-height_halfRd.mean('y')).plot(ax=ax)\n",
    "\n",
    "forcing_halfRd.plot.contour(ax=ax, levels=[1], colors='grey', linewidths=0.8)\n",
    "\n",
    "plot_wind_arrows(atmos, (x,y), narrows=(15,15), hide_below=0.05, color='k')\n",
    "ax.set_aspect('equal')\n",
    "ax.set_xlabel('x  (L$_{d}$)')\n",
    "ax.set_ylabel('y  (L$_{d}$)')\n",
    "\n",
    "ax.set_title('State at T=%.2f days' % (atmos.t / 86400.0))\n",
    "\n",
    "#plt.colorbar()"
   ]
  },
  {
   "cell_type": "code",
   "execution_count": null,
   "id": "5a45c95c",
   "metadata": {},
   "outputs": [],
   "source": []
  },
  {
   "cell_type": "code",
   "execution_count": null,
   "id": "a33fcc4d",
   "metadata": {},
   "outputs": [],
   "source": []
  },
  {
   "cell_type": "code",
   "execution_count": null,
   "id": "bca82c83",
   "metadata": {},
   "outputs": [],
   "source": []
  },
  {
   "cell_type": "code",
   "execution_count": null,
   "id": "74ca6f78",
   "metadata": {},
   "outputs": [],
   "source": []
  },
  {
   "cell_type": "code",
   "execution_count": null,
   "id": "77b94749",
   "metadata": {},
   "outputs": [],
   "source": []
  },
  {
   "cell_type": "code",
   "execution_count": null,
   "id": "8955bfc8",
   "metadata": {},
   "outputs": [],
   "source": []
  },
  {
   "cell_type": "code",
   "execution_count": null,
   "id": "c1fd2afb",
   "metadata": {},
   "outputs": [],
   "source": []
  },
  {
   "cell_type": "code",
   "execution_count": null,
   "id": "7e3a78d4",
   "metadata": {},
   "outputs": [],
   "source": []
  },
  {
   "cell_type": "code",
   "execution_count": null,
   "id": "13b46e10",
   "metadata": {},
   "outputs": [],
   "source": []
  },
  {
   "cell_type": "code",
   "execution_count": null,
   "id": "41ac4d40",
   "metadata": {},
   "outputs": [],
   "source": []
  }
 ],
 "metadata": {
  "kernelspec": {
   "display_name": "plumeworld",
   "language": "python",
   "name": "plumeworld"
  },
  "language_info": {
   "codemirror_mode": {
    "name": "ipython",
    "version": 3
   },
   "file_extension": ".py",
   "mimetype": "text/x-python",
   "name": "python",
   "nbconvert_exporter": "python",
   "pygments_lexer": "ipython3",
   "version": "3.7.9"
  }
 },
 "nbformat": 4,
 "nbformat_minor": 5
}
