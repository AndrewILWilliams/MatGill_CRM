{
 "cells": [
  {
   "cell_type": "code",
   "execution_count": 17,
   "id": "9bfb5da8",
   "metadata": {},
   "outputs": [],
   "source": [
    "import xarray as xr\n",
    "import numpy as np\n",
    "import matplotlib.pyplot as plt\n",
    "\n",
    "from shallow_water import PeriodicLinearShallowWater\n",
    "from plotting import plot_wind_arrows"
   ]
  },
  {
   "cell_type": "code",
   "execution_count": 8,
   "id": "8ffe2550",
   "metadata": {},
   "outputs": [],
   "source": [
    "import warnings\n",
    "warnings.simplefilter(action='ignore', category=DeprecationWarning)"
   ]
  },
  {
   "cell_type": "code",
   "execution_count": 168,
   "id": "a01b3b25",
   "metadata": {},
   "outputs": [],
   "source": [
    "def run_linear_model(beta=2.28e-11, Rd=1e6, equivalent_depth=10, Q0=3, matgill_yexp=2):\n",
    "    \"\"\"\n",
    "    Params:\n",
    "    \n",
    "     - Radius of deformation: Rd = sqrt(2 c / beta)\n",
    "     - beta\n",
    "     \n",
    "     \n",
    "    # Question: What is the best thing to interpret as a 'free parameter'?\n",
    "    \n",
    "    Currently, James views Rd as a free parameter, but really that should be\n",
    "    SET by the beta parameter and equivalent depth, right? That is much\n",
    "    more physical I think. Will try to adapt the code. :)\n",
    "    \"\"\"\n",
    "    nx = 256\n",
    "    ny = nx//2 + 1\n",
    "\n",
    "\n",
    "    # Radius of deformation: Rd = sqrt(2 c / beta)\n",
    "    #Rd = 1000.0e3  # Fix Rd at 1000km\n",
    "\n",
    "    Lx = 10e6 #10*Rd\n",
    "    Ly = 5e6 #5*Rd\n",
    "\n",
    "    #beta=2.28e-11\n",
    "    c = Rd**2 * beta  # Kelvin wave speed: c = sqrt(gh)\n",
    "    g = 9.81\n",
    "\n",
    "    H = c**2/g       # Set phi baseline from deformation radius\n",
    "\n",
    "    cfl = 0.7         # For numerical stability CFL = |u| dt / dx < 1.0\n",
    "    dx  = Ly / nx\n",
    "    dt = np.floor(cfl * dx / (c*4))\n",
    "\n",
    "    tau = 500000\n",
    "    nu = 1000\n",
    "\n",
    "    atmos = PeriodicLinearShallowWater(nx, ny, Lx, Ly, beta=beta, f0=0.0, g=g, H=H, dt=dt, nu=nu)\n",
    "\n",
    "    x, y = np.meshgrid(atmos.phix/Rd, atmos.phiy/Rd)\n",
    "    k = np.pi/2\n",
    "    #Q0 = 1#H * 0.01\n",
    "    Q = -1*(Q0*np.exp(-(1/2)*y**matgill_yexp)*np.cos(k*x))\n",
    "    Q[np.abs(x) > 1] = 0 # Fix this! the \">1\" clause DEPENDS on `matgill_exp`!\n",
    "    Q = Q.T\n",
    "\n",
    "    @atmos.add_forcing\n",
    "    def matsuno_gill(model):    \n",
    "        u, v, h = model.state\n",
    "        du, dv, dh = np.zeros_like(model.state)\n",
    "\n",
    "        # forcing terms for the linear matsuno gill problem\n",
    "        du = - u/tau\n",
    "        dv = - v/tau\n",
    "        dh = (Q - h)/tau\n",
    "\n",
    "        return np.array([du, dv, dh])\n",
    "\n",
    "\n",
    "    N = int(tau/dt*3)\n",
    "    for i in range(N):\n",
    "        atmos.step()\n",
    "        if i%int(N*0.1)==0:\n",
    "            print(i)\n",
    "\n",
    "    da_forcing = xr.DataArray(Q.T, dims=['y', 'x'],\n",
    "                              coords={'x': xr.DataArray(atm.phix[:,0]/1e3, \n",
    "                                                        dims=['x'],\n",
    "                                                        attrs={'units':'km'}),\n",
    "                                      'y': xr.DataArray(atm.phiy[0,:]/1e3, \n",
    "                                                        dims=['y'],\n",
    "                                                        attrs={'units':'km'})})\n",
    "    \n",
    "    da_height = xr.DataArray(atmos.h.T, dims=['y', 'x'],\n",
    "                             coords={'x': xr.DataArray(atm.phix[:,0]/1e3, \n",
    "                                                       dims=['x'],\n",
    "                                                       attrs={'units':'km'}),\n",
    "                                     'y': xr.DataArray(atm.phiy[0,:]/1e3, \n",
    "                                                       dims=['y'],\n",
    "                                                       attrs={'units':'km'})})\n",
    "\n",
    "    return atmos, da_height, da_forcing\n"
   ]
  },
  {
   "cell_type": "code",
   "execution_count": null,
   "id": "e021f888",
   "metadata": {},
   "outputs": [],
   "source": []
  },
  {
   "cell_type": "code",
   "execution_count": null,
   "id": "133b97ac",
   "metadata": {},
   "outputs": [
    {
     "name": "stderr",
     "output_type": "stream",
     "text": [
      "/gws/nopw/j04/aopp/andreww/DPhil_misc/MatGill_CRM/shallow_water_model/arakawac.py:150: VisibleDeprecationWarning: Creating an ndarray from ragged nested sequences (which is a list-or-tuple of lists-or-tuples-or ndarrays with different lengths or shapes) is deprecated. If you meant to do this, you must specify 'dtype=object' when creating the ndarray\n",
      "  return np.array([self.u, self.v, self.phi])\n",
      "/home/users/andreww/miniconda3/envs/plumeworld/lib/python3.7/site-packages/ipykernel_launcher.py:57: VisibleDeprecationWarning: Creating an ndarray from ragged nested sequences (which is a list-or-tuple of lists-or-tuples-or ndarrays with different lengths or shapes) is deprecated. If you meant to do this, you must specify 'dtype=object' when creating the ndarray\n",
      "/gws/nopw/j04/aopp/andreww/DPhil_misc/MatGill_CRM/shallow_water_model/shallow_water.py:192: VisibleDeprecationWarning: Creating an ndarray from ragged nested sequences (which is a list-or-tuple of lists-or-tuples-or ndarrays with different lengths or shapes) is deprecated. If you meant to do this, you must specify 'dtype=object' when creating the ndarray\n",
      "  dstate = np.array([u_rhs, v_rhs, h_rhs])\n"
     ]
    },
    {
     "name": "stdout",
     "output_type": "stream",
     "text": [
      "0\n",
      "1006\n",
      "2012\n"
     ]
    }
   ],
   "source": [
    "%%time\n",
    "atmos, height, forcing = run_linear_model()"
   ]
  },
  {
   "cell_type": "code",
   "execution_count": null,
   "id": "3553ad94",
   "metadata": {},
   "outputs": [],
   "source": []
  },
  {
   "cell_type": "code",
   "execution_count": null,
   "id": "6026c60b",
   "metadata": {},
   "outputs": [],
   "source": [
    "fig, ax = plt.subplots(dpi=100, figsize=(6, 4))\n",
    "\n",
    "(height-height.mean()).plot(ax=ax, vmin=-0.2, vmax=0.2, cmap='coolwarm')\n",
    "\n",
    "forcing.plot.contour(ax=ax, levels=[forcing_betax0p1.max()/2], colors='grey', linewidths=0.8)\n",
    "\n",
    "x,y=np.meshgrid(height.x, height.y)\n",
    "plot_wind_arrows(atmos, (x,y), narrows=(15,15), hide_below=0.05, color='k')\n",
    "ax.set_aspect('equal')\n",
    "ax.set_xlabel('x  (km)')\n",
    "ax.set_ylabel('y  (km)')\n",
    "\n",
    "ax.set_title('State at T=%.2f days' % (atmos.t / 86400.0))\n"
   ]
  },
  {
   "cell_type": "code",
   "execution_count": null,
   "id": "49473491",
   "metadata": {},
   "outputs": [],
   "source": [
    "%%time\n",
    "\n",
    "atmos_betax0p5, height_betax0p5, forcing_betax0p5 = run_linear_model(beta=1.14e-11)"
   ]
  },
  {
   "cell_type": "code",
   "execution_count": null,
   "id": "bd0a4781",
   "metadata": {},
   "outputs": [],
   "source": [
    "fig, ax = plt.subplots(dpi=100, figsize=(6, 4))\n",
    "\n",
    "(height_betax0p5-height_betax0p5.mean()).plot(ax=ax, vmin=-0.2, vmax=0.2, cmap='coolwarm')\n",
    "\n",
    "forcing_betax0p5.plot.contour(ax=ax, levels=[forcing_betax0p1.max()/2], \n",
    "                              colors='grey', linewidths=0.8)\n",
    "\n",
    "x,y=np.meshgrid(height_betax0p5.x, height_betax0p5.y)\n",
    "plot_wind_arrows(atmos_betax0p5, (x,y), narrows=(15,15), hide_below=0.05, color='k')\n",
    "\n",
    "ax.set_aspect('equal')\n",
    "ax.set_xlabel('x  (L$_{d}$)')\n",
    "ax.set_ylabel('y  (L$_{d}$)')\n",
    "\n",
    "ax.set_title('State at T=%.2f days' % (atmos.t / 86400.0))\n",
    "\n",
    "#plt.colorbar()"
   ]
  },
  {
   "cell_type": "code",
   "execution_count": null,
   "id": "6b959975",
   "metadata": {},
   "outputs": [],
   "source": [
    "%%time\n",
    "\n",
    "atmos_betax0p1, height_betax0p1, forcing_betax0p1 = run_linear_model(beta=2.28e-12)"
   ]
  },
  {
   "cell_type": "code",
   "execution_count": null,
   "id": "290a2498",
   "metadata": {},
   "outputs": [],
   "source": [
    "fig, ax = plt.subplots(dpi=100, figsize=(6, 4))\n",
    "\n",
    "(height_betax0p1-height_betax0p1.mean()).plot(ax=ax, vmin=-0.2, vmax=0.2, cmap='coolwarm')\n",
    "\n",
    "forcing_betax0p1.plot.contour(ax=ax, levels=[forcing_betax0p1.max()/2], \n",
    "                              colors='grey', linewidths=0.8)\n",
    "\n",
    "x,y=np.meshgrid(height_betax0p1.x, height_betax0p1.y)\n",
    "plot_wind_arrows(atmos_betax0p1, (x,y), narrows=(15,15), hide_below=0.05, color='k')\n",
    "ax.set_aspect('equal')\n",
    "ax.set_xlabel('x  (L$_{d}$)')\n",
    "ax.set_ylabel('y  (L$_{d}$)')\n",
    "\n",
    "ax.set_title('State at T=%.2f days' % (atmos.t / 86400.0))\n",
    "\n",
    "#plt.colorbar()"
   ]
  },
  {
   "cell_type": "code",
   "execution_count": null,
   "id": "a06006a1",
   "metadata": {},
   "outputs": [],
   "source": []
  },
  {
   "cell_type": "code",
   "execution_count": null,
   "id": "e5f8d073",
   "metadata": {},
   "outputs": [],
   "source": []
  },
  {
   "cell_type": "code",
   "execution_count": null,
   "id": "35aaf86a",
   "metadata": {},
   "outputs": [],
   "source": []
  },
  {
   "cell_type": "code",
   "execution_count": null,
   "id": "2a11e7ab",
   "metadata": {},
   "outputs": [],
   "source": []
  },
  {
   "cell_type": "code",
   "execution_count": null,
   "id": "e1a7566d",
   "metadata": {},
   "outputs": [],
   "source": []
  },
  {
   "cell_type": "code",
   "execution_count": null,
   "id": "9cee2d90",
   "metadata": {},
   "outputs": [],
   "source": []
  },
  {
   "cell_type": "code",
   "execution_count": null,
   "id": "55a5eaeb",
   "metadata": {},
   "outputs": [],
   "source": []
  },
  {
   "cell_type": "code",
   "execution_count": null,
   "id": "10e3a58c",
   "metadata": {},
   "outputs": [],
   "source": []
  },
  {
   "cell_type": "code",
   "execution_count": null,
   "id": "9930b4ea",
   "metadata": {},
   "outputs": [],
   "source": []
  },
  {
   "cell_type": "code",
   "execution_count": null,
   "id": "8f89e1fd",
   "metadata": {},
   "outputs": [],
   "source": []
  },
  {
   "cell_type": "code",
   "execution_count": null,
   "id": "ade3d180",
   "metadata": {},
   "outputs": [],
   "source": []
  }
 ],
 "metadata": {
  "kernelspec": {
   "display_name": "plumeworld",
   "language": "python",
   "name": "plumeworld"
  },
  "language_info": {
   "codemirror_mode": {
    "name": "ipython",
    "version": 3
   },
   "file_extension": ".py",
   "mimetype": "text/x-python",
   "name": "python",
   "nbconvert_exporter": "python",
   "pygments_lexer": "ipython3",
   "version": "3.7.9"
  }
 },
 "nbformat": 4,
 "nbformat_minor": 5
}
